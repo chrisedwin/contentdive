{
 "cells": [
  {
   "cell_type": "code",
   "execution_count": 1,
   "id": "43a07354-306f-4606-b3f2-0d527c84c75a",
   "metadata": {},
   "outputs": [
    {
     "ename": "OSError",
     "evalue": "PWD environment variable is not set.",
     "output_type": "error",
     "traceback": [
      "\u001b[1;31m---------------------------------------------------------------------------\u001b[0m",
      "\u001b[1;31mOSError\u001b[0m                                   Traceback (most recent call last)",
      "Cell \u001b[1;32mIn[1], line 2\u001b[0m\n\u001b[0;32m      1\u001b[0m \u001b[38;5;28;01mimport\u001b[39;00m \u001b[38;5;21;01msetup_django\u001b[39;00m\n\u001b[1;32m----> 2\u001b[0m \u001b[43msetup_django\u001b[49m\u001b[38;5;241;43m.\u001b[39;49m\u001b[43minit\u001b[49m\u001b[43m(\u001b[49m\u001b[43m)\u001b[49m\n",
      "File \u001b[1;32m~\\desktop\\Final Project\\1\\recommender\\src\\nbs\\setup_django.py:10\u001b[0m, in \u001b[0;36minit\u001b[1;34m()\u001b[0m\n\u001b[0;32m      8\u001b[0m PWD \u001b[38;5;241m=\u001b[39m os\u001b[38;5;241m.\u001b[39mgetenv(\u001b[38;5;124m\"\u001b[39m\u001b[38;5;124mPWD\u001b[39m\u001b[38;5;124m\"\u001b[39m)\n\u001b[0;32m      9\u001b[0m \u001b[38;5;28;01mif\u001b[39;00m \u001b[38;5;129;01mnot\u001b[39;00m PWD:\n\u001b[1;32m---> 10\u001b[0m     \u001b[38;5;28;01mraise\u001b[39;00m \u001b[38;5;167;01mEnvironmentError\u001b[39;00m(\u001b[38;5;124m\"\u001b[39m\u001b[38;5;124mPWD environment variable is not set.\u001b[39m\u001b[38;5;124m\"\u001b[39m)\n\u001b[0;32m     12\u001b[0m \u001b[38;5;66;03m# Change to the correct directory\u001b[39;00m\n\u001b[0;32m     13\u001b[0m os\u001b[38;5;241m.\u001b[39mchdir(PWD)\n",
      "\u001b[1;31mOSError\u001b[0m: PWD environment variable is not set."
     ]
    }
   ],
   "source": [
    "import setup_django\n",
    "setup_django.init()"
   ]
  },
  {
   "cell_type": "code",
   "execution_count": null,
   "id": "481a07f9-a686-456a-9bfd-4c35bb75a1ab",
   "metadata": {},
   "outputs": [],
   "source": []
  },
  {
   "cell_type": "code",
   "execution_count": 3,
   "id": "fb3fc509-fae3-43f1-9744-7393fcbf2957",
   "metadata": {},
   "outputs": [],
   "source": [
    "import os\n",
    "import sys\n",
    "\n",
    "DJANGO_SETTINGS_MODULE = \"mechome.settings\"\n",
    "\n",
    "PWD = os.getenv(\"PWD\")\n",
    "\n",
    "\n",
    "def init():\n",
    "    os.chdir(PWD)\n",
    "    sys.path.insert(0, os.getenv(\"PWD\"))\n",
    "    os.environ.setdefault(\"DJANGO_SETTINGS_MODULE\", DJANGO_SETTINGS_MODULE)\n",
    "    os.environ[\"DJANGO_ALLOW_ASYNC_UNSAFE\"] = \"true\"\n",
    "    import django\n",
    "    django.setup()\n",
    "    "
   ]
  },
  {
   "cell_type": "code",
   "execution_count": 5,
   "id": "5b258357-e4e0-41b4-9803-6693cd09baf1",
   "metadata": {},
   "outputs": [
    {
     "ename": "ModuleNotFoundError",
     "evalue": "No module named 'movies'",
     "output_type": "error",
     "traceback": [
      "\u001b[1;31m---------------------------------------------------------------------------\u001b[0m",
      "\u001b[1;31mModuleNotFoundError\u001b[0m                       Traceback (most recent call last)",
      "Cell \u001b[1;32mIn[5], line 1\u001b[0m\n\u001b[1;32m----> 1\u001b[0m \u001b[38;5;28;01mfrom\u001b[39;00m \u001b[38;5;21;01mmovies\u001b[39;00m\u001b[38;5;21;01m.\u001b[39;00m\u001b[38;5;21;01mmodels\u001b[39;00m \u001b[38;5;28;01mimport\u001b[39;00m Movie\n\u001b[0;32m      2\u001b[0m qs \u001b[38;5;241m=\u001b[39m Movie\u001b[38;5;241m.\u001b[39mobjects\u001b[38;5;241m.\u001b[39mall()\u001b[38;5;241m.\u001b[39mvalues(\u001b[38;5;124m'\u001b[39m\u001b[38;5;124mtitle\u001b[39m\u001b[38;5;124m'\u001b[39m, \u001b[38;5;124m'\u001b[39m\u001b[38;5;124mrelease_date\u001b[39m\u001b[38;5;124m'\u001b[39m, \u001b[38;5;124m'\u001b[39m\u001b[38;5;124mrating_avg\u001b[39m\u001b[38;5;124m'\u001b[39m, \u001b[38;5;124m'\u001b[39m\u001b[38;5;124mrating_count\u001b[39m\u001b[38;5;124m'\u001b[39m)\n\u001b[0;32m      3\u001b[0m qs\n",
      "\u001b[1;31mModuleNotFoundError\u001b[0m: No module named 'movies'"
     ]
    }
   ],
   "source": [
    "from movies.models import Movie\n",
    "qs = Movie.objects.all().values('title', 'release_date', 'rating_avg', 'rating_count')\n",
    "qs"
   ]
  },
  {
   "cell_type": "code",
   "execution_count": null,
   "id": "8b1dd12d-19ae-485d-8dc8-696498128429",
   "metadata": {},
   "outputs": [],
   "source": []
  },
  {
   "cell_type": "code",
   "execution_count": null,
   "id": "0959eff7-2ded-45cd-a139-a1237215d78e",
   "metadata": {},
   "outputs": [],
   "source": []
  }
 ],
 "metadata": {
  "kernelspec": {
   "display_name": "Python 3 (ipykernel)",
   "language": "python",
   "name": "python3"
  },
  "language_info": {
   "codemirror_mode": {
    "name": "ipython",
    "version": 3
   },
   "file_extension": ".py",
   "mimetype": "text/x-python",
   "name": "python",
   "nbconvert_exporter": "python",
   "pygments_lexer": "ipython3",
   "version": "3.11.5"
  }
 },
 "nbformat": 4,
 "nbformat_minor": 5
}
